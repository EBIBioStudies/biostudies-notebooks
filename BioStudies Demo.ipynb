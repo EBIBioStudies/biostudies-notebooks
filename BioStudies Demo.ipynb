{
 "cells": [
  {
   "cell_type": "code",
   "execution_count": 1,
   "metadata": {},
   "outputs": [
    {
     "name": "stdout",
     "output_type": "stream",
     "text": [
      "Collecting jsonpath-ng\n",
      "Collecting decorator (from jsonpath-ng)\n",
      "  Using cached https://files.pythonhosted.org/packages/ed/1b/72a1821152d07cf1d8b6fce298aeb06a7eb90f4d6d41acec9861e7cc6df0/decorator-4.4.2-py2.py3-none-any.whl\n",
      "Collecting ply (from jsonpath-ng)\n",
      "  Using cached https://files.pythonhosted.org/packages/a3/58/35da89ee790598a0700ea49b2a66594140f44dec458c07e8e3d4979137fc/ply-3.11-py2.py3-none-any.whl\n",
      "Collecting six (from jsonpath-ng)\n",
      "  Using cached https://files.pythonhosted.org/packages/ee/ff/48bde5c0f013094d729fe4b0316ba2a24774b3ff1c52d924a8a4cb04078a/six-1.15.0-py2.py3-none-any.whl\n",
      "Installing collected packages: decorator, ply, six, jsonpath-ng\n",
      "Successfully installed decorator-4.4.2 jsonpath-ng-1.5.1 ply-3.11 six-1.15.0\n"
     ]
    }
   ],
   "source": [
    "!pip3 install jsonpath-ng"
   ]
  },
  {
   "cell_type": "code",
   "execution_count": 2,
   "metadata": {},
   "outputs": [],
   "source": [
    "import requests\n",
    "import json\n",
    "import urllib.request\n",
    "from jsonpath_ng import jsonpath\n",
    "from jsonpath_ng.ext import parse\n",
    "from IPython.display import Image, display, Markdown\n",
    "import ipyplot"
   ]
  },
  {
   "cell_type": "markdown",
   "metadata": {},
   "source": [
    "### Get Study"
   ]
  },
  {
   "cell_type": "code",
   "execution_count": 3,
   "metadata": {},
   "outputs": [
    {
     "name": "stdout",
     "output_type": "stream",
     "text": [
      "Fetching study from https://www.ebi.ac.uk/biostudies/api/v1/studies/S-BIAD4 ...\n"
     ]
    },
    {
     "data": {
      "text/markdown": [
       "<table><tr><td><b>Title</b></td><td style=\"text-align:left\">A 3D molecular atlas of the chick embryonic heart</td></tr><tr><td><b>Description</b></td><td style=\"text-align:left\">We present a detailed analysis of gene expression in the 2-day (HH12) embryonic chick heart. RNA-seq of 13 micro-dissected regions reveals regionalised expression of 15,570 genes. Of these, 132 were studied by in situ hybridisation and a subset (38 genes) was mapped by Optical Projection Tomography or serial sectioning to build a detailed 3-dimensional atlas of expression. We display this with a novel interactive 3-D viewer and as stacks of sections, revealing the boundaries of expression domains and regions of overlap. Analysis of the expression domains also defines some sub-regions distinct from those normally recognised by anatomical criteria at this stage of development, such as a previously undescribed subdivision of the atria into two orthogonal sets of domains (dorsoventral and left-right). We also include a detailed comparison of expression in the chick with the mouse and other species.</td></tr><tr><td><b>Study type</b></td><td style=\"text-align:left\">RNAseq</td></tr><tr><td><b>Study Organism</b></td><td style=\"text-align:left\">Gallus gallus</td></tr><tr><td><b>Number of Experiments</b></td><td style=\"text-align:left\">3</td></tr></table>"
      ],
      "text/plain": [
       "<IPython.core.display.Markdown object>"
      ]
     },
     "metadata": {},
     "output_type": "display_data"
    }
   ],
   "source": [
    "prefix = 'https://www.ebi.ac.uk/biostudies'\n",
    "study_endpoint = prefix + '/api/v1/studies/{accession}'\n",
    "accession = 'S-BIAD4'\n",
    "\n",
    "# Load the study json from the API endpoint\n",
    "url = study_endpoint.format(accession=accession)\n",
    "print ('Fetching study from {} ...'.format(url))\n",
    "\n",
    "study = json.loads(requests.get(url).text)\n",
    "study_attributes = parse('$.section.attributes').find(study)[0].value\n",
    "attribute_html = list(map( lambda node: '<tr><td><b>{}</b></td><td style=\"text-align:left\">{}</td></tr>'.format(node['name'], node['value']) ,study_attributes ))\n",
    "display(Markdown('<table>{}</table>'.format(\"\".join(attribute_html))))\n"
   ]
  },
  {
   "cell_type": "markdown",
   "metadata": {},
   "source": [
    "### Get Image List"
   ]
  },
  {
   "cell_type": "code",
   "execution_count": 4,
   "metadata": {},
   "outputs": [
    {
     "name": "stdout",
     "output_type": "stream",
     "text": [
      "Histological sections of 40 markers as registered stacks of images\n"
     ]
    }
   ],
   "source": [
    "# This study has files outside the main JSON in a PageTab attribute is called `File List`\n",
    "filelists = parse('$..attributes[?(@.name == \"File List\")]').find(study)\n",
    "\n",
    "# We will display some images from the first file list here\n",
    "# Set the caption to the description of the parent section \n",
    "description_node = next( filter(lambda node: node['name']=='Description', filelists[0].context.value))\n",
    "caption = description_node['value']\n",
    "print (caption)"
   ]
  },
  {
   "cell_type": "markdown",
   "metadata": {},
   "source": [
    "#### Get Image Paths"
   ]
  },
  {
   "cell_type": "code",
   "execution_count": 5,
   "metadata": {},
   "outputs": [
    {
     "name": "stdout",
     "output_type": "stream",
     "text": [
      "Fetching file list from https://www.ebi.ac.uk/biostudies/files/S-BIAD4/HistologicalSections-LibFile.json...\n",
      "Got 2418 files\n"
     ]
    }
   ],
   "source": [
    "filename = filelists[0].value['value'] + '.json' \n",
    "file_endpoint = prefix + '/files/{accession}/{filename}'\n",
    "url = file_endpoint.format(accession=accession, filename = filename)\n",
    "print ('Fetching file list from {}...'.format(url))\n",
    "filelist = json.loads(requests.get(url).text)\n",
    "print ('Got {} files'.format( parse('@.`len`').find( filelist)[0].value))"
   ]
  },
  {
   "cell_type": "markdown",
   "metadata": {},
   "source": [
    "#### Display Images"
   ]
  },
  {
   "cell_type": "code",
   "execution_count": 6,
   "metadata": {},
   "outputs": [
    {
     "data": {
      "text/html": [
       "<div style=\"display: inline-block; width: 320px; vertical-align: top; text-align: center;\"><h4 style=\"font-size: 12px\">723020 bytes</h4><h4 style=\"font-size: 9px; padding-left: 10px; padding-right: 10px; width: 90%; word-wrap: break-word; white-space: normal;\">https://www.ebi.ac.uk/biostudies/files/S-BIAD4/S-BIAD4/Histological-Sections/ADAMTS3/ADAMTS3-040.jpg</h4><img src=\"https://www.ebi.ac.uk/biostudies/files/S-BIAD4/S-BIAD4/Histological-Sections/ADAMTS3/ADAMTS3-040.jpg\" style=\"margin: 1px; width: 300px; border: 2px solid #ddd;\"/></div><div style=\"display: inline-block; width: 320px; vertical-align: top; text-align: center;\"><h4 style=\"font-size: 12px\">770692 bytes</h4><h4 style=\"font-size: 9px; padding-left: 10px; padding-right: 10px; width: 90%; word-wrap: break-word; white-space: normal;\">https://www.ebi.ac.uk/biostudies/files/S-BIAD4/S-BIAD4/Histological-Sections/ADAMTS3/ADAMTS3-041.jpg</h4><img src=\"https://www.ebi.ac.uk/biostudies/files/S-BIAD4/S-BIAD4/Histological-Sections/ADAMTS3/ADAMTS3-041.jpg\" style=\"margin: 1px; width: 300px; border: 2px solid #ddd;\"/></div><div style=\"display: inline-block; width: 320px; vertical-align: top; text-align: center;\"><h4 style=\"font-size: 12px\">797758 bytes</h4><h4 style=\"font-size: 9px; padding-left: 10px; padding-right: 10px; width: 90%; word-wrap: break-word; white-space: normal;\">https://www.ebi.ac.uk/biostudies/files/S-BIAD4/S-BIAD4/Histological-Sections/ADAMTS3/ADAMTS3-042.jpg</h4><img src=\"https://www.ebi.ac.uk/biostudies/files/S-BIAD4/S-BIAD4/Histological-Sections/ADAMTS3/ADAMTS3-042.jpg\" style=\"margin: 1px; width: 300px; border: 2px solid #ddd;\"/></div><div style=\"display: inline-block; width: 320px; vertical-align: top; text-align: center;\"><h4 style=\"font-size: 12px\">832930 bytes</h4><h4 style=\"font-size: 9px; padding-left: 10px; padding-right: 10px; width: 90%; word-wrap: break-word; white-space: normal;\">https://www.ebi.ac.uk/biostudies/files/S-BIAD4/S-BIAD4/Histological-Sections/ADAMTS3/ADAMTS3-043.jpg</h4><img src=\"https://www.ebi.ac.uk/biostudies/files/S-BIAD4/S-BIAD4/Histological-Sections/ADAMTS3/ADAMTS3-043.jpg\" style=\"margin: 1px; width: 300px; border: 2px solid #ddd;\"/></div><div style=\"display: inline-block; width: 320px; vertical-align: top; text-align: center;\"><h4 style=\"font-size: 12px\">761311 bytes</h4><h4 style=\"font-size: 9px; padding-left: 10px; padding-right: 10px; width: 90%; word-wrap: break-word; white-space: normal;\">https://www.ebi.ac.uk/biostudies/files/S-BIAD4/S-BIAD4/Histological-Sections/ADAMTS3/ADAMTS3-044.jpg</h4><img src=\"https://www.ebi.ac.uk/biostudies/files/S-BIAD4/S-BIAD4/Histological-Sections/ADAMTS3/ADAMTS3-044.jpg\" style=\"margin: 1px; width: 300px; border: 2px solid #ddd;\"/></div><div style=\"display: inline-block; width: 320px; vertical-align: top; text-align: center;\"><h4 style=\"font-size: 12px\">823217 bytes</h4><h4 style=\"font-size: 9px; padding-left: 10px; padding-right: 10px; width: 90%; word-wrap: break-word; white-space: normal;\">https://www.ebi.ac.uk/biostudies/files/S-BIAD4/S-BIAD4/Histological-Sections/ADAMTS3/ADAMTS3-045.jpg</h4><img src=\"https://www.ebi.ac.uk/biostudies/files/S-BIAD4/S-BIAD4/Histological-Sections/ADAMTS3/ADAMTS3-045.jpg\" style=\"margin: 1px; width: 300px; border: 2px solid #ddd;\"/></div><div style=\"display: inline-block; width: 320px; vertical-align: top; text-align: center;\"><h4 style=\"font-size: 12px\">791507 bytes</h4><h4 style=\"font-size: 9px; padding-left: 10px; padding-right: 10px; width: 90%; word-wrap: break-word; white-space: normal;\">https://www.ebi.ac.uk/biostudies/files/S-BIAD4/S-BIAD4/Histological-Sections/ADAMTS3/ADAMTS3-046.jpg</h4><img src=\"https://www.ebi.ac.uk/biostudies/files/S-BIAD4/S-BIAD4/Histological-Sections/ADAMTS3/ADAMTS3-046.jpg\" style=\"margin: 1px; width: 300px; border: 2px solid #ddd;\"/></div><div style=\"display: inline-block; width: 320px; vertical-align: top; text-align: center;\"><h4 style=\"font-size: 12px\">779908 bytes</h4><h4 style=\"font-size: 9px; padding-left: 10px; padding-right: 10px; width: 90%; word-wrap: break-word; white-space: normal;\">https://www.ebi.ac.uk/biostudies/files/S-BIAD4/S-BIAD4/Histological-Sections/ADAMTS3/ADAMTS3-047.jpg</h4><img src=\"https://www.ebi.ac.uk/biostudies/files/S-BIAD4/S-BIAD4/Histological-Sections/ADAMTS3/ADAMTS3-047.jpg\" style=\"margin: 1px; width: 300px; border: 2px solid #ddd;\"/></div><div style=\"display: inline-block; width: 320px; vertical-align: top; text-align: center;\"><h4 style=\"font-size: 12px\">777917 bytes</h4><h4 style=\"font-size: 9px; padding-left: 10px; padding-right: 10px; width: 90%; word-wrap: break-word; white-space: normal;\">https://www.ebi.ac.uk/biostudies/files/S-BIAD4/S-BIAD4/Histological-Sections/ADAMTS3/ADAMTS3-048.jpg</h4><img src=\"https://www.ebi.ac.uk/biostudies/files/S-BIAD4/S-BIAD4/Histological-Sections/ADAMTS3/ADAMTS3-048.jpg\" style=\"margin: 1px; width: 300px; border: 2px solid #ddd;\"/></div>"
      ],
      "text/plain": [
       "<IPython.core.display.HTML object>"
      ]
     },
     "metadata": {},
     "output_type": "display_data"
    }
   ],
   "source": [
    "# Display first 9 images\n",
    "image_nodes = parse('@[0:9]').find(filelist)\n",
    "images = []\n",
    "labels = []\n",
    "for node in image_nodes:  \n",
    "    images.append(file_endpoint.format(accession=accession, filename = node.value['path']))\n",
    "    labels.append( '{} bytes'.format(node.value['size']))\n",
    "ipyplot.plot_images(images,labels,img_width=300)"
   ]
  }
 ],
 "metadata": {
  "kernelspec": {
   "display_name": "Python 3",
   "language": "python",
   "name": "python3"
  },
  "language_info": {
   "codemirror_mode": {
    "name": "ipython",
    "version": 3
   },
   "file_extension": ".py",
   "mimetype": "text/x-python",
   "name": "python",
   "nbconvert_exporter": "python",
   "pygments_lexer": "ipython3",
   "version": "3.6.9"
  }
 },
 "nbformat": 4,
 "nbformat_minor": 2
}
